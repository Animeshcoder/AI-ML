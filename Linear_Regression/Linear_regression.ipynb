{
  "cells": [
    {
      "cell_type": "markdown",
      "source": [
        "# **Multivariable Linear Regression with multiple methods**"
      ],
      "metadata": {
        "id": "KXz8Eyk04sok"
      }
    },
    {
      "cell_type": "markdown",
      "source": [
        "## **Getting Data from Google spreadsheet:**"
      ],
      "metadata": {
        "id": "vL8oRLaKisGk"
      }
    },
    {
      "cell_type": "code",
      "execution_count": 2,
      "metadata": {
        "id": "psb4UCxzLQM2"
      },
      "outputs": [],
      "source": [
        "from google.colab import auth\n",
        "auth.authenticate_user()\n",
        "import gspread\n",
        "from google.auth import default\n",
        "creds, _ = default()\n",
        "gc = gspread.authorize(creds)"
      ]
    },
    {
      "cell_type": "code",
      "execution_count": 3,
      "metadata": {
        "id": "em1MuMg9OD3H"
      },
      "outputs": [],
      "source": [
        "import pandas as pd\n",
        "import numpy as np\n",
        "import matplotlib.pyplot as plt"
      ]
    },
    {
      "cell_type": "code",
      "execution_count": 4,
      "metadata": {
        "id": "6bGpIVw4MmRk"
      },
      "outputs": [],
      "source": [
        "wb = gc.open_by_url('https://docs.google.com/spreadsheets/d/1kvyMOd14mohMHRAfs8mgjKKoi7sAu-Av3SgPYicrOh4/edit#gid=1171598407')"
      ]
    },
    {
      "cell_type": "code",
      "execution_count": 5,
      "metadata": {
        "id": "-t8wxcWEN1yS"
      },
      "outputs": [],
      "source": [
        "# Data 1\n",
        "sheet1=wb.worksheet('Data1')\n",
        "data1=sheet1.get_all_values()\n",
        "df1=pd.DataFrame(data1)\n",
        "df1.columns=df1.iloc[0]\n",
        "df1=df1.iloc[1:]"
      ]
    },
    {
      "cell_type": "code",
      "source": [
        "# Data 2\n",
        "sheet2=wb.worksheet('Data2')\n",
        "data2=sheet2.get_all_values()\n",
        "df2=pd.DataFrame(data2)\n",
        "df2.columns=df2.iloc[0]\n",
        "df2=df2.iloc[1:]"
      ],
      "metadata": {
        "id": "SnmhRI5tYAxA"
      },
      "execution_count": 6,
      "outputs": []
    },
    {
      "cell_type": "code",
      "source": [
        "# Data 3\n",
        "sheet3=wb.worksheet('Data3')\n",
        "data3=sheet3.get_all_values()\n",
        "df3=pd.DataFrame(data3)\n",
        "df3.columns=df3.iloc[0]\n",
        "df3=df3.iloc[1:]"
      ],
      "metadata": {
        "id": "cRGtQ1ImYJQD"
      },
      "execution_count": 7,
      "outputs": []
    },
    {
      "cell_type": "code",
      "source": [
        "# Data 4\n",
        "sheet4=wb.worksheet('Data4')\n",
        "data4=sheet4.get_all_values()\n",
        "df4=pd.DataFrame(data4)\n",
        "df4.columns=df4.iloc[0]\n",
        "df4=df4.iloc[1:]"
      ],
      "metadata": {
        "id": "38N9JysQYSQf"
      },
      "execution_count": 8,
      "outputs": []
    },
    {
      "cell_type": "markdown",
      "source": [
        "### **Linear Regression from scratch by Numerical and Gradient Descent method**"
      ],
      "metadata": {
        "id": "1HHIfDOm6-3s"
      }
    },
    {
      "cell_type": "code",
      "execution_count": 104,
      "metadata": {
        "id": "nWvRHs2--u58"
      },
      "outputs": [],
      "source": [
        "import matplotlib.pyplot as plt\n",
        "\n",
        "class Linear_Regression:\n",
        "    def __init__(self, df, x_cols, y_col, relationship='linear'):\n",
        "        self.df = df\n",
        "        self.x_cols = x_cols\n",
        "        self.y_col = y_col\n",
        "        self.relationship = relationship\n",
        "        self.X = self.prepare_X()\n",
        "        self.y_list = self.prepare_y()\n",
        "        self.params = [[0] for _ in range(len(self.X[0]))]\n",
        "\n",
        "    def prepare_X(self):\n",
        "        X = []\n",
        "        for col in self.x_cols:\n",
        "            X.append([float(item) for item in list(self.df[col])])\n",
        "        ones = [1 for _ in range(len(X[0]))]\n",
        "        X = [list(item) for item in zip(ones, *X)]\n",
        "        return X\n",
        "\n",
        "    def prepare_y(self):\n",
        "        if self.relationship == 'linear':\n",
        "            return [[float(item)] for item in list(self.df[self.y_col])]\n",
        "        elif self.relationship == 'exponential':\n",
        "            return [[np.log(float(item))] for item in list(self.df[self.y_col])]\n",
        "\n",
        "    def plot_scatter(self):\n",
        "        # Flatten the y_list\n",
        "        y = [item for sublist in self.y_list for item in sublist]\n",
        "        # Transpose X\n",
        "        X_transpose = self.transpose(self.X)\n",
        "\n",
        "        for i, x in enumerate(X_transpose[1:]):  # Skip the first column of ones\n",
        "            plt.figure(i)\n",
        "            plt.scatter(x, y, s=0.4)\n",
        "            plt.title(f'Scatter plot of {self.x_cols[i]} vs {self.y_col}')\n",
        "            plt.xlabel(self.x_cols[i])\n",
        "            plt.ylabel(self.y_col)\n",
        "            plt.tick_params(left = False, bottom = False)\n",
        "            plt.show()\n",
        "\n",
        "\n",
        "    def transpose(self, matrix):\n",
        "      return [[matrix[j][i] for j in range(len(matrix))] for i in range(len(matrix[0]))]\n",
        "\n",
        "\n",
        "    def matrix_multiplication(self, A, B):\n",
        "      rows_A = len(A)\n",
        "      cols_A = len(A[0])\n",
        "      rows_B = len(B)\n",
        "      cols_B = len(B[0])\n",
        "      # print(rows_A, cols_A, rows_B, cols_B)\n",
        "      if cols_A != rows_B:\n",
        "          print(\"Incompatible matrices. Can't perform multiplication.\")\n",
        "          return\n",
        "\n",
        "      # Create result matrix and fill with zeros\n",
        "      C = [[0 for row in range(cols_B)] for col in range(rows_A)]\n",
        "\n",
        "      for i in range(rows_A):\n",
        "          for j in range(cols_B):\n",
        "              for k in range(rows_B):\n",
        "                  C[i][j] += A[i][k] * B[k][j]\n",
        "      return C\n",
        "\n",
        "    #############---------------------Inverse by using Gauss Elimination method--------------------------------###############\n",
        "\n",
        "    def gaussian_elimination_inverse(self, A):\n",
        "      n = len(A)\n",
        "      # Augment A with I\n",
        "      AI = [[0 for _ in range(2*n)] for _ in range(n)]\n",
        "      for i in range(n):\n",
        "          for j in range(n):\n",
        "              AI[i][j] = A[i][j]\n",
        "              AI[i][j+n] = 1 if i == j else 0\n",
        "\n",
        "      for i in range(n):\n",
        "          # Search for maximum in this column\n",
        "          maxEl = abs(AI[i][i])\n",
        "          maxRow = i\n",
        "          for k in range(i+1, n):\n",
        "              if abs(AI[k][i]) > maxEl:\n",
        "                  maxEl = abs(AI[k][i])\n",
        "                  maxRow = k\n",
        "\n",
        "          # Swap maximum row with current row\n",
        "          AI[maxRow], AI[i] = AI[i], AI[maxRow]\n",
        "\n",
        "          # Make all rows below this one 0 in current column\n",
        "          for k in range(i+1, n):\n",
        "              c = -AI[k][i]/AI[i][i]\n",
        "              for j in range(i, 2*n):\n",
        "                  if i == j:\n",
        "                      AI[k][j] = 0\n",
        "                  else:\n",
        "                      AI[k][j] += c * AI[i][j]\n",
        "\n",
        "      # Check for singularity\n",
        "      for i in range(n):\n",
        "          if AI[i][i] == 0:\n",
        "              return \"The matrix is singular, so the inverse does not exist.\"\n",
        "\n",
        "      # Back substitution\n",
        "      for i in range(n-1, -1, -1):\n",
        "          for k in range(i-1, -1, -1):\n",
        "              c = -AI[k][i]/AI[i][i]\n",
        "              for j in range(2*n):\n",
        "                  if j != i:\n",
        "                      AI[k][j] += c * AI[i][j]\n",
        "          # Normalize row i\n",
        "          AI[i] = [a/AI[i][i] for a in AI[i]]\n",
        "\n",
        "      # Extract inverse matrix\n",
        "      A_inv = [[AI[i][j+n] for j in range(n)] for i in range(n)]\n",
        "      return A_inv\n",
        "\n",
        "    def predict_y(self):\n",
        "        X_T = self.transpose(self.X)\n",
        "        X_TX = self.matrix_multiplication(X_T, self.X)\n",
        "        X_TX_inv = self.gaussian_elimination_inverse(X_TX)\n",
        "        X_TY = self.matrix_multiplication(X_T, self.y_list)\n",
        "        M = self.matrix_multiplication(X_TX_inv, X_TY)\n",
        "        print(\"\\n Cost Function by numerical method:\", M)\n",
        "\n",
        "        return self.matrix_multiplication(self.X, M)\n",
        "\n",
        "    def error_calculate(self):\n",
        "        # Flatten the lists\n",
        "        y_predicted = [item for sublist in self.predict_y() for item in sublist]\n",
        "        y_list = [item for sublist in self.y_list for item in sublist]\n",
        "\n",
        "        # Calculate MSE\n",
        "        mse = sum((p - a) ** 2 for p, a in zip(y_predicted, y_list)) / len(y_predicted)\n",
        "\n",
        "        # Calculate RMSE\n",
        "        rmse = mse ** 0.5\n",
        "\n",
        "        # Calculate R-squared\n",
        "        y_mean = sum(y_list) / len(y_list)\n",
        "        ss_total = sum((a - y_mean) ** 2 for a in y_list)\n",
        "        ss_residual = sum((p - a) ** 2 for p, a in zip(y_predicted, y_list))\n",
        "        r2 = 1 - (ss_residual / ss_total)\n",
        "\n",
        "        print(\"\\n Error by scratch method:\")\n",
        "        print(\"MSE:\", mse)\n",
        "        print(\"RMSE:\", rmse)\n",
        "        print(\"R-squared:\", r2)\n",
        "\n",
        "    #####------------------------------------Finding Cost using Gradient Descent-------------------------------------------#########\n",
        "\n",
        "    def gradient_descent(self):\n",
        "        m = len(self.y_list)\n",
        "        for i in range(self.iterations):\n",
        "            h = self.matrix_multiplication(self.X, self.params)\n",
        "            error = [[h[j][0] - self.y_list[j][0]] for j in range(m)]\n",
        "            gradient = self.matrix_multiplication(self.transpose(self.X), error)\n",
        "            self.params = [[self.params[j][0] - (self.learning_rate/m) * gradient[j][0]] for j in range(len(self.params))]\n",
        "        print(\"\\n Cost by gradient method: \", self.params)\n",
        "\n",
        "    def train(self, iteration, learning_rate):\n",
        "        self.learning_rate = learning_rate\n",
        "        self.iterations = iteration\n",
        "        return self.gradient_descent()\n",
        "\n",
        "    def scikit_learn(self):\n",
        "      from sklearn.linear_model import LinearRegression\n",
        "      from sklearn.metrics import mean_squared_error, r2_score\n",
        "      import numpy as np\n",
        "\n",
        "      # Create a Linear Regression object\n",
        "      lr = LinearRegression()\n",
        "\n",
        "      # Fit the model to the data\n",
        "      lr.fit(self.X, self.y_list)\n",
        "\n",
        "      # Make predictions on the same data\n",
        "      y_pred = lr.predict(self.X)\n",
        "      print(\"\\n Error by scikit method:\")\n",
        "      # Calculate the mean squared error of the predictions\n",
        "      mse = mean_squared_error(self.y_list, y_pred)\n",
        "      print(f\"Mean Squared Error: {mse}\")\n",
        "\n",
        "      # Calculate the coefficient of determination (R^2 score)\n",
        "      r2 = r2_score(self.y_list, y_pred)\n",
        "      print(f\"R^2 Score: {r2}\")\n",
        "\n",
        "\n"
      ]
    },
    {
      "cell_type": "markdown",
      "source": [
        "### **Using Method on different datasets:**"
      ],
      "metadata": {
        "id": "InPr-XXp7_2a"
      }
    },
    {
      "cell_type": "code",
      "source": [
        "# Data 1\n",
        "\n",
        "data_prep = Linear_Regression(df1, ['x'], 'y')\n",
        "data_prep.plot_scatter()\n",
        "data_prep.error_calculate()\n",
        "data_prep.train(1000, 0.05)\n",
        "data_prep.scikit_learn()"
      ],
      "metadata": {
        "colab": {
          "base_uri": "https://localhost:8080/",
          "height": 709
        },
        "id": "pkDE8MqLTi8O",
        "outputId": "d077bb98-db38-4fb3-ea53-fd8d8a7a4b1f"
      },
      "execution_count": 98,
      "outputs": [
        {
          "output_type": "display_data",
          "data": {
            "text/plain": [
              "<Figure size 640x480 with 1 Axes>"
            ],
            "image/png": "[encoded data removed]"
          },
          "metadata": {}
        },
        {
          "output_type": "stream",
          "name": "stdout",
          "text": [
            "\n",
            " Cost Function by numerical method: [[5.6807871267612455], [2.384060066057181]]\n",
            "\n",
            " Error by scratch method:\n",
            "MSE: 2.0785254017773274\n",
            "RMSE: 1.4417091945941551\n",
            "R-squared: 0.9579571905586357\n",
            "\n",
            " Cost by gradient method:  [[5.680758659438731], [2.3840643453748847]]\n",
            "\n",
            " Error by scikit method:\n",
            "Mean Squared Error: 2.0785254017773274\n",
            "R^2 Score: 0.9579571905586357\n"
          ]
        }
      ]
    },
    {
      "cell_type": "code",
      "source": [
        "# Data 2\n",
        "\n",
        "data_prep = Linear_Regression(df2, ['x'], 'y', relationship='exponential')\n",
        "data_prep.plot_scatter()\n",
        "data_prep.error_calculate()\n",
        "data_prep.train(1000, 0.05)\n",
        "data_prep.scikit_learn()"
      ],
      "metadata": {
        "colab": {
          "base_uri": "https://localhost:8080/",
          "height": 709
        },
        "id": "ABuXLjH4Yqo0",
        "outputId": "0f857a50-e1fd-488f-c2d2-10dfe90645f3"
      },
      "execution_count": 105,
      "outputs": [
        {
          "output_type": "display_data",
          "data": {
            "text/plain": [
              "<Figure size 640x480 with 1 Axes>"
            ],
            "image/png": "[encoded data removed]"
          },
          "metadata": {}
        },
        {
          "output_type": "stream",
          "name": "stdout",
          "text": [
            "\n",
            " Cost Function by numerical method: [[3.682122666293189], [0.9729974518460569]]\n",
            "\n",
            " Error by scratch method:\n",
            "MSE: 0.07643342704351971\n",
            "RMSE: 0.27646596000867757\n",
            "R-squared: 0.9904038522690993\n",
            "\n",
            " Cost by gradient method:  [[3.6821037544687716], [0.9730002947444361]]\n",
            "\n",
            " Error by scikit method:\n",
            "Mean Squared Error: 0.07643342704351971\n",
            "R^2 Score: 0.9904038522690993\n"
          ]
        }
      ]
    },
    {
      "cell_type": "code",
      "source": [
        "# Data 3\n",
        "\n",
        "data_prep = Linear_Regression(df3, ['x'], 'z')\n",
        "data_prep.plot_scatter()\n",
        "data_prep.error_calculate()\n",
        "data_prep.train(1000, 0.05)\n",
        "data_prep.scikit_learn()"
      ],
      "metadata": {
        "colab": {
          "base_uri": "https://localhost:8080/",
          "height": 709
        },
        "id": "skwG6aDEZKIQ",
        "outputId": "52e54fa0-6d06-4b6a-bdf9-44f637d58787"
      },
      "execution_count": 100,
      "outputs": [
        {
          "output_type": "display_data",
          "data": {
            "text/plain": [
              "<Figure size 640x480 with 1 Axes>"
            ],
            "image/png": "[encoded data removed]"
          },
          "metadata": {}
        },
        {
          "output_type": "stream",
          "name": "stdout",
          "text": [
            "\n",
            " Cost Function by numerical method: [[1.1770620783119963], [0.09419021414817919]]\n",
            "\n",
            " Error by scratch method:\n",
            "MSE: 0.16173044143088552\n",
            "RMSE: 0.4021572347116057\n",
            "R-squared: 0.31369732267280803\n",
            "\n",
            " Cost by gradient method:  [[1.1770558584302782], [0.09419114914478582]]\n",
            "\n",
            " Error by scikit method:\n",
            "Mean Squared Error: 0.16173044143088552\n",
            "R^2 Score: 0.3136973226728079\n"
          ]
        }
      ]
    },
    {
      "cell_type": "code",
      "source": [
        "# Data 4\n",
        "\n",
        "data_prep = Linear_Regression(df4, ['x1', 'x2', 'x3'], 'y')\n",
        "data_prep.plot_scatter()\n",
        "data_prep.error_calculate()\n",
        "data_prep.train(100000, 0.005)\n",
        "data_prep.scikit_learn()"
      ],
      "metadata": {
        "colab": {
          "base_uri": "https://localhost:8080/",
          "height": 1000
        },
        "id": "QZR2tcz4ZqGa",
        "outputId": "39a954d8-7ca0-47e5-cc96-23de14fe4832"
      },
      "execution_count": 101,
      "outputs": [
        {
          "output_type": "display_data",
          "data": {
            "text/plain": [
              "<Figure size 640x480 with 1 Axes>"
            ],
            "image/png": "[encoded data removed]"
          },
          "metadata": {}
        },
        {
          "output_type": "display_data",
          "data": {
            "text/plain": [
              "<Figure size 640x480 with 1 Axes>"
            ],
            "image/png": "[encoded data removed]"
          },
          "metadata": {}
        },
        {
          "output_type": "display_data",
          "data": {
            "text/plain": [
              "<Figure size 640x480 with 1 Axes>"
            ],
            "image/png": "[encoded data removed]"
          },
          "metadata": {}
        },
        {
          "output_type": "stream",
          "name": "stdout",
          "text": [
            "\n",
            " Cost Function by numerical method: [[13.239477824421101], [6.132437632710662], [2.3922655421880563], [7.746810379932413]]\n",
            "\n",
            " Error by scratch method:\n",
            "MSE: 34.620480829243554\n",
            "RMSE: 5.883917133104744\n",
            "R-squared: 0.9841749058943147\n",
            "\n",
            " Cost by gradient method:  [[13.239475793250877], [6.132434333809515], [2.3922682969119413], [7.746810935958502]]\n",
            "\n",
            " Error by scikit method:\n",
            "Mean Squared Error: 34.62048082924354\n",
            "R^2 Score: 0.9841749058943147\n"
          ]
        }
      ]
    },
    {
      "cell_type": "markdown",
      "source": [
        "### **Linear Regression: Numerical and Gradient Descent methods by using numpy**"
      ],
      "metadata": {
        "id": "4VdI393M8bEN"
      }
    },
    {
      "cell_type": "code",
      "source": [
        "import numpy as np\n",
        "\n",
        "class LR_using_numpy:\n",
        "    def __init__(self, df, x_cols, y_col, relationship='linear'):\n",
        "        self.df = df\n",
        "        self.x_cols = x_cols\n",
        "        self.y_col = y_col\n",
        "        self.relationship = relationship\n",
        "        self.X = self.prepare_X()\n",
        "        self.y_list = self.prepare_y()\n",
        "        self.params = [[0] for _ in range(len(self.X[0]))]\n",
        "\n",
        "    def prepare_X(self):\n",
        "        X = []\n",
        "        for col in self.x_cols:\n",
        "            X.append([float(item) for item in list(self.df[col])])\n",
        "        ones = np.ones((len(X[0]), 1))\n",
        "        X = np.hstack((ones, np.array(X).T))\n",
        "        return X\n",
        "\n",
        "    def prepare_y(self):\n",
        "        if self.relationship == 'linear':\n",
        "            return np.array([[float(item)] for item in list(self.df[self.y_col])])\n",
        "        elif self.relationship == 'exponential':\n",
        "            return np.log(np.array([[float(item)] for item in list(self.df[self.y_col])]))\n",
        "\n",
        "\n",
        "    def normal_equation(self):\n",
        "        # Calculate X transpose\n",
        "        X_T = self.X.T\n",
        "\n",
        "        # Calculate X transpose times X\n",
        "        X_T_X = X_T.dot(self.X)\n",
        "\n",
        "        # Calculate the inverse of X transpose times X\n",
        "        inv_X_T_X = np.linalg.inv(X_T_X)\n",
        "\n",
        "        # Calculate X transpose times Y\n",
        "        X_T_Y = X_T.dot(self.y_list)\n",
        "\n",
        "        # Calculate the coefficients (M)\n",
        "        M = inv_X_T_X.dot(X_T_Y)\n",
        "        print(\"\\n Cost by numerical method: \", M)\n",
        "\n",
        "    def gradient_descent(self):\n",
        "        m = len(self.y_list)\n",
        "\n",
        "        for i in range(self.iterations):\n",
        "            self.params = self.params - (self.learning_rate/m) * (np.transpose(self.X) @ (self.X @ self.params - self.y_list))\n",
        "        print(\"\\n Cost by gradient method: \", self.params)\n",
        "\n",
        "    def train(self, iteration, learning_rate):\n",
        "        self.learning_rate = learning_rate\n",
        "        self.iterations = iteration\n",
        "        return self.gradient_descent()\n",
        "\n"
      ],
      "metadata": {
        "id": "sbqz8gGI-QXu"
      },
      "execution_count": 47,
      "outputs": []
    },
    {
      "cell_type": "markdown",
      "source": [
        "### **Method used for different dataset:**"
      ],
      "metadata": {
        "id": "RmjexHky82xn"
      }
    },
    {
      "cell_type": "code",
      "source": [
        "data_prep = LR_using_numpy(df1, ['x'], 'y')\n",
        "data_prep.normal_equation()\n",
        "data_prep.train(1000, 0.05)"
      ],
      "metadata": {
        "colab": {
          "base_uri": "https://localhost:8080/"
        },
        "id": "W-UN5LxQePev",
        "outputId": "7f4449f4-6ce6-4dda-bc92-99273683e6a4"
      },
      "execution_count": 48,
      "outputs": [
        {
          "output_type": "stream",
          "name": "stdout",
          "text": [
            "\n",
            " Cost by numerical method:  [[5.68078713]\n",
            " [2.38406007]]\n",
            "\n",
            " Cost by gradient method:  [[5.68075866]\n",
            " [2.38406435]]\n"
          ]
        }
      ]
    },
    {
      "cell_type": "code",
      "source": [
        "data_prep = LR_using_numpy(df2, ['x'], 'y', relationship='exponential')\n",
        "data_prep.normal_equation()\n",
        "data_prep.train(1000, 0.05)"
      ],
      "metadata": {
        "colab": {
          "base_uri": "https://localhost:8080/"
        },
        "id": "eRTuGT2mgjG0",
        "outputId": "eb1c7eca-ad99-4503-dd68-cd130321e052"
      },
      "execution_count": 44,
      "outputs": [
        {
          "output_type": "stream",
          "name": "stdout",
          "text": [
            "\n",
            " Cost by numerical method:  [[3.68212267]\n",
            " [0.97299745]]\n",
            "\n",
            " Cost by gradient method:  [[3.68210375]\n",
            " [0.97300029]]\n"
          ]
        }
      ]
    },
    {
      "cell_type": "code",
      "source": [
        "data_prep = LR_using_numpy(df3, ['x'], 'z')\n",
        "data_prep.normal_equation()\n",
        "data_prep.train(1000, 0.05)"
      ],
      "metadata": {
        "colab": {
          "base_uri": "https://localhost:8080/"
        },
        "id": "wNG3-D7_k3dV",
        "outputId": "8f446e2e-e94e-4e75-bb37-10043f128695"
      },
      "execution_count": 45,
      "outputs": [
        {
          "output_type": "stream",
          "name": "stdout",
          "text": [
            "\n",
            " Cost by numerical method:  [[1.17706208]\n",
            " [0.09419021]]\n",
            "\n",
            " Cost by gradient method:  [[1.17705586]\n",
            " [0.09419115]]\n"
          ]
        }
      ]
    },
    {
      "cell_type": "code",
      "source": [
        "data_prep = LR_using_numpy(df4, ['x1', 'x2', 'x3'], 'y')\n",
        "data_prep.normal_equation()\n",
        "data_prep.train(100000, 0.005)"
      ],
      "metadata": {
        "colab": {
          "base_uri": "https://localhost:8080/"
        },
        "id": "Up5XJWB8lDew",
        "outputId": "b1e7d677-f050-41dc-ebe7-7c84d18842e6"
      },
      "execution_count": 46,
      "outputs": [
        {
          "output_type": "stream",
          "name": "stdout",
          "text": [
            "\n",
            " Cost by numerical method:  [[13.23947782]\n",
            " [ 6.13243763]\n",
            " [ 2.39226554]\n",
            " [ 7.74681038]]\n",
            "\n",
            " Cost by gradient method:  [[13.23947579]\n",
            " [ 6.13243433]\n",
            " [ 2.3922683 ]\n",
            " [ 7.74681094]]\n"
          ]
        }
      ]
    }
  ],
  "metadata": {
    "colab": {
      "provenance": []
    },
    "kernelspec": {
      "display_name": "Python 3",
      "name": "python3"
    },
    "language_info": {
      "name": "python"
    }
  },
  "nbformat": 4,
  "nbformat_minor": 0
}